{
  "nbformat": 4,
  "nbformat_minor": 0,
  "metadata": {
    "colab": {
      "provenance": [],
      "authorship_tag": "ABX9TyOt5NMCPXzyeDyn7oz4dZFB",
      "include_colab_link": true
    },
    "kernelspec": {
      "name": "python3",
      "display_name": "Python 3"
    },
    "language_info": {
      "name": "python"
    }
  },
  "cells": [
    {
      "cell_type": "markdown",
      "metadata": {
        "id": "view-in-github",
        "colab_type": "text"
      },
      "source": [
        "<a href=\"https://colab.research.google.com/github/33Sg/B_41_Shruti-Suman-Python-project.csv/blob/main/Untitled2.ipynb\" target=\"_parent\"><img src=\"https://colab.research.google.com/assets/colab-badge.svg\" alt=\"Open In Colab\"/></a>"
      ]
    },
    {
      "cell_type": "code",
      "execution_count": 3,
      "metadata": {
        "colab": {
          "base_uri": "https://localhost:8080/"
        },
        "id": "PCX1JOhPUyVO",
        "outputId": "131fd49e-b90e-4165-a552-c658eefc6341"
      },
      "outputs": [
        {
          "output_type": "stream",
          "name": "stdout",
          "text": [
            "<class 'pandas.core.frame.DataFrame'>\n",
            "RangeIndex: 398 entries, 0 to 397\n",
            "Data columns (total 9 columns):\n",
            " #   Column        Non-Null Count  Dtype  \n",
            "---  ------        --------------  -----  \n",
            " 0   mpg           398 non-null    float64\n",
            " 1   cylinders     398 non-null    int64  \n",
            " 2   displacement  398 non-null    float64\n",
            " 3   horsepower    392 non-null    float64\n",
            " 4   weight        398 non-null    int64  \n",
            " 5   acceleration  398 non-null    float64\n",
            " 6   model year    398 non-null    int64  \n",
            " 7   origin        398 non-null    int64  \n",
            " 8   car name      398 non-null    object \n",
            "dtypes: float64(4), int64(4), object(1)\n",
            "memory usage: 28.1+ KB\n"
          ]
        },
        {
          "output_type": "execute_result",
          "data": {
            "text/plain": [
              "(None,\n",
              "     mpg  cylinders  displacement  horsepower  weight  acceleration  \\\n",
              " 0  18.0          8         307.0       130.0    3504          12.0   \n",
              " 1  15.0          8         350.0       165.0    3693          11.5   \n",
              " 2  18.0          8         318.0       150.0    3436          11.0   \n",
              " 3  16.0          8         304.0       150.0    3433          12.0   \n",
              " 4  17.0          8         302.0       140.0    3449          10.5   \n",
              " \n",
              "    model year  origin                   car name  \n",
              " 0          70       1  chevrolet chevelle malibu  \n",
              " 1          70       1          buick skylark 320  \n",
              " 2          70       1         plymouth satellite  \n",
              " 3          87       1              amc rebel sst  \n",
              " 4          70       1                ford torino  )"
            ]
          },
          "metadata": {},
          "execution_count": 3
        }
      ],
      "source": [
        "# Load the newly provided CSV file\n",
        "import pandas as pd\n",
        "file_path = '/content/data_ak.csv'\n",
        "data = pd.read_csv(file_path)\n",
        "\n",
        "# Display basic information about the dataset and the first few rows\n",
        "data_info = data.info()\n",
        "data_head = data.head()\n",
        "\n",
        "data_info, data_head\n"
      ]
    },
    {
      "cell_type": "markdown",
      "source": [
        "Convert mpg into categories.\n",
        "\n",
        "*   List item\n",
        "*   List item\n",
        "\n",
        "\n",
        "Handle missing values in the horsepower column.\n",
        "Split the data into training and test sets using a seed of 123.\n",
        "Train the models: Logistic Regression, Decision Tree, and Random Forest.\n",
        "Evaluate each model using accuracy, precision, recall, and confusion matrix\n",
        "\n",
        "---\n",
        "\n"
      ],
      "metadata": {
        "id": "fS5rtn32jkk9"
      }
    },
    {
      "cell_type": "code",
      "source": [
        "import pandas as pd\n",
        "import numpy as np\n",
        "from sklearn.model_selection import train_test_split\n",
        "from sklearn.linear_model import LogisticRegression\n",
        "from sklearn.tree import DecisionTreeClassifier\n",
        "from sklearn.ensemble import RandomForestClassifier\n",
        "from sklearn.metrics import accuracy_score, precision_score, recall_score, confusion_matrix\n",
        "\n",
        "# Load the dataset\n",
        "file_path = '/content/data_ak.csv'\n",
        "data = pd.read_csv(file_path)\n",
        "\n",
        "\n",
        "# Step 1: Convert 'mpg' into categories (low, medium, high)\n",
        "# We'll use arbitrary thresholds to classify mpg values:\n",
        "# low: mpg < 20, medium: 20 <= mpg < 30, high: mpg >= 30\n",
        "data['mpg_category'] = pd.cut(data['mpg'], bins=[0, 20, 30, np.inf], labels=['low', 'medium', 'high'])\n",
        "\n",
        "# Step 2: Handle missing values in 'horsepower' by filling with median\n",
        "data['horsepower'].fillna(data['horsepower'].median(), inplace=True)\n",
        "\n",
        "# Drop the 'car name' column as it is not relevant for classification\n",
        "data = data.drop(columns=['car name'])\n",
        "\n",
        "# Step 3: Prepare features (X) and target (y)\n",
        "X = data.drop(columns=['mpg', 'mpg_category'])\n",
        "y = data['mpg_category']\n",
        "\n",
        "# Split the data into training and test sets with seed=123\n",
        "X_train, X_test, y_train, y_test = train_test_split(X, y, test_size=0.3, random_state=123)\n",
        "\n",
        "# Step 4: Train and evaluate models\n",
        "\n",
        "# Initialize models\n",
        "models = {\n",
        "    'Logistic Regression': LogisticRegression(max_iter=1000),\n",
        "    'Decision Tree': DecisionTreeClassifier(random_state=123),\n",
        "    'Random Forest': RandomForestClassifier(random_state=123)\n",
        "}\n",
        "\n",
        "# Dictionary to store results\n",
        "results = {}\n",
        "\n",
        "for model_name, model in models.items():\n",
        "    # Train the model\n",
        "    model.fit(X_train, y_train)\n",
        "    # Make predictions\n",
        "    y_pred = model.predict(X_test)\n",
        "    # Calculate metrics\n",
        "    accuracy = accuracy_score(y_test, y_pred)\n",
        "    precision = precision_score(y_test, y_pred, average='weighted')\n",
        "    recall = recall_score(y_test, y_pred, average='weighted')\n",
        "    conf_matrix = confusion_matrix(y_test, y_pred)\n",
        "    # Store the results\n",
        "    results[model_name] = {\n",
        "        'Accuracy': accuracy,\n",
        "        'Precision': precision,\n",
        "        'Recall': recall,\n",
        "        'Confusion Matrix': conf_matrix\n",
        "    }\n",
        "\n",
        "# Step 5: Display the results\n",
        "for model_name, metrics in results.items():\n",
        "    print(f\"Results for {model_name}:\")\n",
        "    print(f\"Accuracy: {metrics['Accuracy']:.2f}\")\n",
        "    print(f\"Precision: {metrics['Precision']:.2f}\")\n",
        "    print(f\"Recall: {metrics['Recall']:.2f}\")\n",
        "    print(\"Confusion Matrix:\")\n",
        "    print(metrics['Confusion Matrix'])\n",
        "    print(\"\\n\")\n"
      ],
      "metadata": {
        "colab": {
          "base_uri": "https://localhost:8080/"
        },
        "id": "jHhvy1PwjPf_",
        "outputId": "3cde240f-4d75-45aa-f985-985505290138"
      },
      "execution_count": 4,
      "outputs": [
        {
          "output_type": "stream",
          "name": "stderr",
          "text": [
            "<ipython-input-4-fabb7e2aab24>:20: FutureWarning: A value is trying to be set on a copy of a DataFrame or Series through chained assignment using an inplace method.\n",
            "The behavior will change in pandas 3.0. This inplace method will never work because the intermediate object on which we are setting values always behaves as a copy.\n",
            "\n",
            "For example, when doing 'df[col].method(value, inplace=True)', try using 'df.method({col: value}, inplace=True)' or df[col] = df[col].method(value) instead, to perform the operation inplace on the original object.\n",
            "\n",
            "\n",
            "  data['horsepower'].fillna(data['horsepower'].median(), inplace=True)\n",
            "/usr/local/lib/python3.10/dist-packages/sklearn/linear_model/_logistic.py:469: ConvergenceWarning: lbfgs failed to converge (status=1):\n",
            "STOP: TOTAL NO. of ITERATIONS REACHED LIMIT.\n",
            "\n",
            "Increase the number of iterations (max_iter) or scale the data as shown in:\n",
            "    https://scikit-learn.org/stable/modules/preprocessing.html\n",
            "Please also refer to the documentation for alternative solver options:\n",
            "    https://scikit-learn.org/stable/modules/linear_model.html#logistic-regression\n",
            "  n_iter_i = _check_optimize_result(\n"
          ]
        },
        {
          "output_type": "stream",
          "name": "stdout",
          "text": [
            "Results for Logistic Regression:\n",
            "Accuracy: 0.82\n",
            "Precision: 0.83\n",
            "Recall: 0.82\n",
            "Confusion Matrix:\n",
            "[[20  0  4]\n",
            " [ 0 43  5]\n",
            " [ 8  4 36]]\n",
            "\n",
            "\n",
            "Results for Decision Tree:\n",
            "Accuracy: 0.78\n",
            "Precision: 0.77\n",
            "Recall: 0.78\n",
            "Confusion Matrix:\n",
            "[[19  1  4]\n",
            " [ 0 40  8]\n",
            " [ 5  9 34]]\n",
            "\n",
            "\n",
            "Results for Random Forest:\n",
            "Accuracy: 0.85\n",
            "Precision: 0.85\n",
            "Recall: 0.85\n",
            "Confusion Matrix:\n",
            "[[20  0  4]\n",
            " [ 0 44  4]\n",
            " [ 4  6 38]]\n",
            "\n",
            "\n"
          ]
        }
      ]
    }
  ]
}